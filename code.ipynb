{
 "cells": [
  {
   "cell_type": "code",
   "execution_count": 1,
   "metadata": {},
   "outputs": [],
   "source": [
    "import pandas as pd\n",
    "import numpy as np"
   ]
  },
  {
   "cell_type": "code",
   "execution_count": 14,
   "metadata": {},
   "outputs": [],
   "source": [
    "upload_capital = pd.read_excel('上传财报_公司A-test.xlsx',sheet_name='资产负债表')\n",
    "upload_profit = pd.read_excel('上传财报_公司A-test.xlsx',sheet_name='利润表')\n",
    "upload_cash = pd.read_excel('上传财报_公司A-test.xlsx',sheet_name='现金流量表')\n",
    "download_capital = pd.read_excel('公司A.xlsx',sheet_name='资产负债表')\n",
    "download_profit = pd.read_excel('公司A.xlsx',sheet_name='利润表')\n",
    "download_cash = pd.read_excel('公司A.xlsx',sheet_name='现金流量表')"
   ]
  },
  {
   "cell_type": "code",
   "execution_count": 15,
   "metadata": {},
   "outputs": [],
   "source": [
    "download_capital.set_index('Unnamed: 1', inplace=True)\n",
    "download_profit.set_index('Unnamed: 1', inplace=True)\n",
    "download_cash.set_index('Unnamed: 1', inplace=True)"
   ]
  },
  {
   "cell_type": "code",
   "execution_count": 16,
   "metadata": {},
   "outputs": [],
   "source": [
    "upload_capital.set_index('Unnamed: 1', inplace=True)\n",
    "upload_profit.set_index('Unnamed: 1', inplace=True)\n",
    "upload_cash.set_index('Unnamed: 1', inplace=True)"
   ]
  },
  {
   "cell_type": "code",
   "execution_count": 17,
   "metadata": {},
   "outputs": [],
   "source": [
    "capital = pd.merge(download_capital, upload_capital, on='Unnamed: 1', how='left')\n",
    "profit = pd.merge(download_profit,upload_profit, on='Unnamed: 1', how='left')\n",
    "cash = pd.merge(download_cash,upload_cash, on='Unnamed: 1', how='left')\n",
    "capital.fillna(0, inplace=True)\n",
    "profit.fillna(0, inplace=True)\n",
    "cash.fillna(0, inplace=True)"
   ]
  },
  {
   "cell_type": "code",
   "execution_count": 18,
   "metadata": {},
   "outputs": [],
   "source": [
    "def check_columns(data):\n",
    "    for i in range(2,6):\n",
    "        col_x =f'Unnamed: {i}_x'\n",
    "        col_y =f'Unnamed: {i}_y'\n",
    "        if (data[col_x] != data[col_y]).any():\n",
    "            print(f'This column is no problem: {col_x},{col_y}')\n",
    "        else:\n",
    "            print(f'This column is a problem: {col_x},{col_y}')"
   ]
  },
  {
   "cell_type": "code",
   "execution_count": 19,
   "metadata": {},
   "outputs": [
    {
     "name": "stdout",
     "output_type": "stream",
     "text": [
      "This column is no problem: Unnamed: 2_x,Unnamed: 2_y\n",
      "This column is no problem: Unnamed: 3_x,Unnamed: 3_y\n",
      "This column is no problem: Unnamed: 4_x,Unnamed: 4_y\n",
      "This column is no problem: Unnamed: 5_x,Unnamed: 5_y\n"
     ]
    }
   ],
   "source": [
    "check_columns(capital) "
   ]
  },
  {
   "cell_type": "markdown",
   "metadata": {},
   "source": [
    "资产负债表没有问题"
   ]
  },
  {
   "cell_type": "code",
   "execution_count": 20,
   "metadata": {},
   "outputs": [
    {
     "name": "stdout",
     "output_type": "stream",
     "text": [
      "This column is a problem: Unnamed: 2_x,Unnamed: 2_y\n",
      "This column is no problem: Unnamed: 3_x,Unnamed: 3_y\n",
      "This column is no problem: Unnamed: 4_x,Unnamed: 4_y\n",
      "This column is no problem: Unnamed: 5_x,Unnamed: 5_y\n"
     ]
    }
   ],
   "source": [
    "check_columns(profit) "
   ]
  },
  {
   "cell_type": "markdown",
   "metadata": {},
   "source": [
    "检查profit表中Unnamed: 2列"
   ]
  },
  {
   "cell_type": "code",
   "execution_count": 25,
   "metadata": {},
   "outputs": [
    {
     "data": {
      "text/plain": [
       "(43, 10)"
      ]
     },
     "execution_count": 25,
     "metadata": {},
     "output_type": "execute_result"
    }
   ],
   "source": [
    "profit.shape"
   ]
  },
  {
   "cell_type": "code",
   "execution_count": 24,
   "metadata": {},
   "outputs": [
    {
     "data": {
      "text/plain": [
       "43"
      ]
     },
     "execution_count": 24,
     "metadata": {},
     "output_type": "execute_result"
    }
   ],
   "source": [
    "sum(profit['Unnamed: 2_x'] == profit['Unnamed: 2_y'])"
   ]
  },
  {
   "cell_type": "markdown",
   "metadata": {},
   "source": [
    "检查无误，利润表没有问题"
   ]
  },
  {
   "cell_type": "code",
   "execution_count": 43,
   "metadata": {},
   "outputs": [
    {
     "name": "stdout",
     "output_type": "stream",
     "text": [
      "This column is a problem: Unnamed: 2_x,Unnamed: 2_y\n",
      "This column is no problem: Unnamed: 3_x,Unnamed: 3_y\n",
      "This column is no problem: Unnamed: 4_x,Unnamed: 4_y\n",
      "This column is no problem: Unnamed: 5_x,Unnamed: 5_y\n"
     ]
    }
   ],
   "source": [
    "check_columns(cash) "
   ]
  },
  {
   "cell_type": "markdown",
   "metadata": {},
   "source": [
    "检查cash表的 Unnamed: 2列"
   ]
  },
  {
   "cell_type": "code",
   "execution_count": 27,
   "metadata": {},
   "outputs": [
    {
     "data": {
      "text/plain": [
       "(75, 10)"
      ]
     },
     "execution_count": 27,
     "metadata": {},
     "output_type": "execute_result"
    }
   ],
   "source": [
    "cash.shape"
   ]
  },
  {
   "cell_type": "code",
   "execution_count": 28,
   "metadata": {},
   "outputs": [
    {
     "data": {
      "text/plain": [
       "75"
      ]
     },
     "execution_count": 28,
     "metadata": {},
     "output_type": "execute_result"
    }
   ],
   "source": [
    "sum(cash['Unnamed: 2_x'] == cash['Unnamed: 2_y'])"
   ]
  },
  {
   "cell_type": "markdown",
   "metadata": {},
   "source": [
    "检查无误，利润表没有问题"
   ]
  }
 ],
 "metadata": {
  "kernelspec": {
   "display_name": "base",
   "language": "python",
   "name": "python3"
  },
  "language_info": {
   "codemirror_mode": {
    "name": "ipython",
    "version": 3
   },
   "file_extension": ".py",
   "mimetype": "text/x-python",
   "name": "python",
   "nbconvert_exporter": "python",
   "pygments_lexer": "ipython3",
   "version": "3.9.12"
  },
  "orig_nbformat": 4
 },
 "nbformat": 4,
 "nbformat_minor": 2
}
